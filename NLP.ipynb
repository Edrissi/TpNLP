{
 "cells": [
  {
   "cell_type": "code",
   "execution_count": 2,
   "id": "290856c0",
   "metadata": {},
   "outputs": [],
   "source": [
    "import nltk\n",
    "from gensim.models import Word2Vec\n",
    "from nltk.tokenize import word_tokenize\n",
    "import string"
   ]
  },
  {
   "cell_type": "code",
   "execution_count": 30,
   "id": "20b324ae",
   "metadata": {},
   "outputs": [],
   "source": [
    "input_file = r'C:\\Users\\Admin\\Downloads\\text'\n",
    "\n",
    "# Function to read input file\n",
    "def read_input(input_file):\n",
    "    sentences = []\n",
    "    with open(input_file, 'r') as f:\n",
    "        for line in f:\n",
    "            # Tokenize each line and add to the sentences list\n",
    "            tokens = word_tokenize(line.lower())\n",
    "            sentences.append(tokens)\n",
    "    return sentences\n"
   ]
  },
  {
   "cell_type": "markdown",
   "id": "ba51654b",
   "metadata": {},
   "source": [
    "### 1) Extraire la representation d'un mot :"
   ]
  },
  {
   "cell_type": "code",
   "execution_count": 34,
   "id": "5e6112a8",
   "metadata": {},
   "outputs": [
    {
     "name": "stdout",
     "output_type": "stream",
     "text": [
      "Représentation vectorielle de 'marrakech':\n",
      "[ 7.95813370e-03 -4.06879326e-03  9.22373217e-03  8.45900085e-03\n",
      " -4.24707867e-03 -2.96212005e-04  4.80721332e-03 -3.14500765e-03\n",
      " -6.03375630e-03 -6.97712740e-03 -5.58576896e-04 -7.33261462e-04\n",
      "  4.24531708e-03 -2.51794560e-03 -1.98675756e-04  2.28964537e-03\n",
      "  5.05187316e-03 -4.85181808e-04 -6.62337709e-03 -1.01856794e-02\n",
      "  5.83291257e-05  6.75046677e-03  1.85498723e-03 -9.01423022e-03\n",
      " -7.92942848e-03  6.70598680e-03 -4.02107649e-03  5.98652009e-03\n",
      " -7.01142382e-03  8.54057260e-03 -6.20603142e-03  3.46887088e-03\n",
      " -8.23151786e-04 -7.03103514e-03 -3.50866048e-03 -5.96449361e-04\n",
      " -5.26471343e-03 -1.48347719e-03 -7.82552175e-03  1.97443576e-03\n",
      "  9.18000191e-03 -2.78735277e-03 -1.06265501e-03  3.54230707e-03\n",
      "  9.09567717e-03 -5.90091245e-03 -7.14224251e-03 -2.98043527e-03\n",
      "  9.37293842e-03  1.00559951e-03 -8.29760078e-03 -1.57856336e-03\n",
      "  9.43747349e-03 -7.70377135e-03 -5.62922144e-03  9.49565135e-03\n",
      " -8.76890868e-03  3.90576106e-03  2.72264093e-04  6.76305266e-03\n",
      "  8.33788421e-03 -2.90948618e-03 -3.72209074e-03  8.69902689e-03\n",
      "  1.67805306e-03  6.43253280e-03 -9.21149272e-03  1.00463675e-02\n",
      " -1.83592562e-03 -5.71856182e-03  2.70031276e-03 -2.45007046e-04\n",
      "  5.01670642e-03 -2.19771313e-03 -3.58339678e-03  2.54499260e-03\n",
      "  8.38945899e-03 -4.94652428e-03  2.43408862e-03 -7.85712339e-03\n",
      " -6.93264417e-03 -3.29143717e-04 -8.94142408e-03  3.23225535e-03\n",
      "  1.25156413e-03 -2.38891481e-03  5.35271829e-03  1.02896951e-02\n",
      "  8.76525789e-03 -2.20534788e-03  2.50981678e-03 -3.54237412e-03\n",
      " -8.29329994e-03  6.39579911e-03 -1.14432874e-03 -4.26450541e-04\n",
      " -1.65313785e-03 -4.78336308e-03  4.03946079e-03 -4.43259580e-03]\n"
     ]
    }
   ],
   "source": [
    "sentences = list(read_input(input_file))\n",
    "\n",
    "# Entraîner le modèle word2vec\n",
    "model = Word2Vec(sentences, vector_size=100, window=5, min_count=1, workers=4)\n",
    "\n",
    "\n",
    "# 1. Extraire la représentation vectorielle d'un mot\n",
    "mot = \"marrakech\"\n",
    "if mot in model.wv:\n",
    "    print(f\"Représentation vectorielle de '{mot}':\")\n",
    "    print(model.wv[mot])\n",
    "else:\n",
    "    print(f\"'{mot}' n'est pas dans le vocabulaire.\")"
   ]
  },
  {
   "cell_type": "markdown",
   "id": "6ec44b0e",
   "metadata": {},
   "source": [
    "### 2) similiarite en deux mots "
   ]
  },
  {
   "cell_type": "code",
   "execution_count": 32,
   "id": "db4d3b73",
   "metadata": {},
   "outputs": [
    {
     "name": "stdout",
     "output_type": "stream",
     "text": [
      "Similarité entre 'marrakech' et 'morocco': -0.07653215527534485\n"
     ]
    }
   ],
   "source": [
    "mot1 = \"marrakech\"\n",
    "mot2 = \"morocco\"\n",
    "if mot1 in model.wv and mot2 in model.wv:\n",
    "    similarity = model.wv.similarity(mot1, mot2)\n",
    "    print(f\"Similarité entre '{mot1}' et '{mot2}': {similarity}\")\n",
    "else:\n",
    "    print(f\"Les deux mots doivent être dans le vocabulaire.\")"
   ]
  },
  {
   "cell_type": "markdown",
   "id": "79897fa7",
   "metadata": {},
   "source": [
    "### 3) "
   ]
  },
  {
   "cell_type": "code",
   "execution_count": 35,
   "id": "2de74709",
   "metadata": {},
   "outputs": [
    {
     "name": "stdout",
     "output_type": "stream",
     "text": [
      "Mots contextuels pour 'marrakech':\n",
      "at: 0.33133623003959656\n",
      "intricate: 0.25685712695121765\n",
      "due: 0.24826586246490479\n",
      "gardens: 0.22959285974502563\n",
      "by: 0.2257932424545288\n"
     ]
    }
   ],
   "source": [
    "centralMot = \"marrakech\"\n",
    "if centralMot in model.wv:\n",
    "    print(f\"Mots contextuels pour '{centralMot}':\")\n",
    "    similar_words = model.wv.most_similar(centralMot, topn=5)\n",
    "    for mot, score in similar_words:\n",
    "        print(f\"{mot}: {score}\")\n",
    "else:\n",
    "    print(f\"'{centralMot}' n'est pas dans le vocabulaire.\")"
   ]
  }
 ],
 "metadata": {
  "kernelspec": {
   "display_name": "Python 3 (ipykernel)",
   "language": "python",
   "name": "python3"
  },
  "language_info": {
   "codemirror_mode": {
    "name": "ipython",
    "version": 3
   },
   "file_extension": ".py",
   "mimetype": "text/x-python",
   "name": "python",
   "nbconvert_exporter": "python",
   "pygments_lexer": "ipython3",
   "version": "3.11.5"
  }
 },
 "nbformat": 4,
 "nbformat_minor": 5
}
